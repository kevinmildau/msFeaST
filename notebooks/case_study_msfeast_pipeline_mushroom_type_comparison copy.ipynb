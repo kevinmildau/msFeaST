{
 "cells": [
  {
   "cell_type": "code",
   "execution_count": 1,
   "metadata": {},
   "outputs": [
    {
     "name": "stdout",
     "output_type": "stream",
     "text": [
      "Define Filepaths...\n",
      "Loading Input Data...\n"
     ]
    }
   ],
   "source": [
    "%load_ext autoreload\n",
    "%autoreload 2\n",
    "from matchms.importing import load_from_mgf\n",
    "from matchms.exporting import save_as_mgf\n",
    "import pandas as pd\n",
    "import os\n",
    "import msfeast.pipeline\n",
    "#from msfeast.pipeline import Msfeast\n",
    "import os\n",
    "import pandas as pd\n",
    "\n",
    "print(\"Define Filepaths...\")\n",
    "test_data_directory = os.path.join(\"data\", \"mushroom_type_comparison\")\n",
    "filepath_test_spectra = os.path.join(test_data_directory, \"spectra.mgf\")\n",
    "filepath_test_quant_table = os.path.join(test_data_directory, \"quant_table.csv\")\n",
    "filepath_test_treat_table = os.path.join(test_data_directory, \"treat_table.csv\")\n",
    "\n",
    "output_directory = os.path.join(test_data_directory)\n",
    "r_output_filename = os.path.join(\"r_output.json\")\n",
    "r_filepath = os.path.join(output_directory, r_output_filename)\n",
    "dashboard_output_filepath = os.path.join(output_directory, \"dashboard_data.json\")\n",
    "\n",
    "print(\"Loading Input Data...\")\n",
    "treat_table = pd.read_csv(filepath_test_treat_table)\n",
    "quant_table = pd.read_csv(filepath_test_quant_table)"
   ]
  },
  {
   "cell_type": "code",
   "execution_count": 2,
   "metadata": {},
   "outputs": [
    {
     "name": "stdout",
     "output_type": "stream",
     "text": [
      "Initializing pipeline...\n",
      "Attaching data...\n"
     ]
    }
   ],
   "source": [
    "print(\"Initializing pipeline...\")\n",
    "pipeline = msfeast.pipeline.Msfeast()\n",
    "\n",
    "print(\"Attaching data...\")\n",
    "pipeline.attach_spectra_from_file(filepath_test_spectra, identifier_key=\"scans\")\n",
    "pipeline.attach_quantification_table(quant_table)\n",
    "pipeline.attach_treatment_table(treat_table)\n"
   ]
  },
  {
   "cell_type": "code",
   "execution_count": 3,
   "metadata": {},
   "outputs": [
    {
     "name": "stdout",
     "output_type": "stream",
     "text": [
      "Running spectral similarity computations...\n"
     ]
    }
   ],
   "source": [
    "print(\"Running spectral similarity computations...\")\n",
    "pipeline.run_and_attach_spectral_similarity_computations(\"ModifiedCosine\")"
   ]
  },
  {
   "cell_type": "code",
   "execution_count": 4,
   "metadata": {},
   "outputs": [
    {
     "name": "stdout",
     "output_type": "stream",
     "text": [
      "Run kmedoid grid...\n",
      "Kmedoid grid results. Use to inform kmedoid classification selection ilocs.\n",
      "    iloc     k  silhouette_score  random_seed_used\n",
      "0      0    50          0.186953                 0\n",
      "1      1   100          0.189126                 0\n",
      "2      2   150          0.215336                 0\n",
      "3      3   200          0.189144                 0\n",
      "4      4   250          0.202870                 0\n",
      "5      5   300          0.222685                 0\n",
      "6      6   400          0.277351                 0\n",
      "7      7   500          0.195643                 0\n",
      "8      8   600          0.214177                 0\n",
      "9      9   800          0.239880                 0\n",
      "10    10  1000          0.284767                 0\n"
     ]
    }
   ],
   "source": [
    "print(\"Run kmedoid grid...\")\n",
    "pipeline.run_and_attach_kmedoid_grid([50,100,150,200,250,300,400,500, 600, 800, 1000])"
   ]
  },
  {
   "cell_type": "code",
   "execution_count": 5,
   "metadata": {},
   "outputs": [],
   "source": [
    "pipeline.select_kmedoid_settings(iloc = 6)"
   ]
  },
  {
   "cell_type": "code",
   "execution_count": 6,
   "metadata": {},
   "outputs": [
    {
     "name": "stdout",
     "output_type": "stream",
     "text": [
      "Run t-sne grid...\n",
      "T-sne grid results. Use to inform t-sne embedding selection.\n",
      "   iloc  perplexity  pearson_score  spearman_score  random_seed_used\n",
      "0     0          20       0.402873        0.371266                 0\n",
      "1     1          30       0.419150        0.388948                 0\n",
      "2     2          40       0.426179        0.401479                 0\n",
      "3     3          50       0.419256        0.401680                 0\n",
      "4     4         100       0.495364        0.478248                 0\n",
      "5     5         200       0.544686        0.525507                 0\n"
     ]
    }
   ],
   "source": [
    "print(\"Run t-sne grid...\")\n",
    "pipeline.run_and_attach_tsne_grid([20, 30, 40, 50, 100, 200])"
   ]
  },
  {
   "cell_type": "code",
   "execution_count": 7,
   "metadata": {},
   "outputs": [],
   "source": [
    "pipeline.select_tsne_settings(iloc = 4)"
   ]
  },
  {
   "cell_type": "code",
   "execution_count": 8,
   "metadata": {},
   "outputs": [
    {
     "name": "stdout",
     "output_type": "stream",
     "text": [
      "Initializing R runtime...\n",
      "[1] \"Starting Routine log at \"   \"2024-04-10 16:49:00.179679\"\n",
      "[1] \"R Routine: run integration test...\"\n",
      "[1] \"R Routine: Validating input file paths...\"\n",
      "[1] \"R Routine: Loading required packages...\"\n",
      "[1] \"R Routine: Reading input files...\"\n",
      "[1] \"R Routine: running global test and fold change computations...\"\n",
      "[1] \"R Routine: exporting globaltest and log fold change computations...\"\n",
      "[1] \"R Routine: complete, file saved, exiting R session.\"\n",
      "Integrating pipeline results...\n",
      "Exporting json file...\n",
      "Reached end of trial run.\n"
     ]
    }
   ],
   "source": [
    "print(\"Initializing R runtime...\")\n",
    "if os.path.isfile(r_filepath):\n",
    "  os.remove(r_filepath)\n",
    "pipeline.run_and_attach_statistical_comparisons(output_directory, r_output_filename)\n",
    "\n",
    "print(\"Integrating pipeline results...\")\n",
    "pipeline.integrate_and_attach_dashboard_data(top_k_max=50, alpha=0.01)\n",
    "\n",
    "print(\"Exporting json file...\")\n",
    "pipeline.export_dashboard_json(filepath=dashboard_output_filepath)\n",
    "\n",
    "print(\"Reached end of trial run.\")"
   ]
  }
 ],
 "metadata": {
  "kernelspec": {
   "display_name": "msfeast_development",
   "language": "python",
   "name": "python3"
  },
  "language_info": {
   "codemirror_mode": {
    "name": "ipython",
    "version": 3
   },
   "file_extension": ".py",
   "mimetype": "text/x-python",
   "name": "python",
   "nbconvert_exporter": "python",
   "pygments_lexer": "ipython3",
   "version": "3.10.13"
  }
 },
 "nbformat": 4,
 "nbformat_minor": 2
}

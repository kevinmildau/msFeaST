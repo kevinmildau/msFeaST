{
 "cells": [
  {
   "cell_type": "markdown",
   "metadata": {},
   "source": [
    "# Development Notes\n",
    "runs using conda env msfeast_development in python 3.10\n",
    "python 3.12 install for matchms fails.\n",
    "\n",
    "```bash\n",
    "conda create --name msfeast_development python=3.10\n",
    "conda activate msfeast_development\n",
    "pip install ipykernel\n",
    "pip install matchms\n",
    "pip install plotly\n",
    "```"
   ]
  },
  {
   "cell_type": "code",
   "execution_count": null,
   "metadata": {},
   "outputs": [],
   "source": [
    "import matchms\n",
    "import pandas as pd\n",
    "import numpy as np\n",
    "import plotly\n",
    "import copy"
   ]
  },
  {
   "cell_type": "code",
   "execution_count": null,
   "metadata": {},
   "outputs": [],
   "source": [
    "# Extracting relevant statistical data only from gnps metadata table\n",
    "raw_statistical_metadata = pd.read_table(\"data/metadata.tsv\")\n",
    "raw_statistical_metadata.head()\n",
    "treatment_table = raw_statistical_metadata[[\"filename\",\"ATTRIBUTE_ Taxonomy\"]]\n",
    "selection_mask = treatment_table[\"ATTRIBUTE_ Taxonomy\"].isin(['FB_Hericium', 'FB_Pleurotus'])\n",
    "treatment_table = treatment_table[selection_mask]\n",
    "treatment_table.columns = [\"sample_id\", \"treatment\"]\n",
    "treatment_table.reset_index(drop = True, inplace=True)\n",
    "reference_category = treatment_table[\"treatment\"].iloc[0]\n",
    "treatment_table[\"sample_id\"] = treatment_table[\"sample_id\"].astype(dtype=\"string\")\n",
    "sample_id_list = treatment_table[\"sample_id\"].to_list()\n",
    "treatment_table.head(), reference_category, sample_id_list[0:4]"
   ]
  },
  {
   "cell_type": "code",
   "execution_count": null,
   "metadata": {},
   "outputs": [],
   "source": [
    "# Extracting and structurng quantification table\n",
    "quantification_table = pd.read_csv(\"data/quantification_table.csv\")\n",
    "feature_id_column_name = \"row ID\"\n",
    "sample_id_suffix = \" Peak area\"\n",
    "quantification_table = quantification_table.filter(regex=f\"{feature_id_column_name}|{sample_id_suffix}\", axis=1)\n",
    "quantification_table = quantification_table.rename(columns = {'row ID':'feature_id'})\n",
    "\n",
    "quantification_table = quantification_table.melt(id_vars=\"feature_id\").reset_index(drop=True)\n",
    "quantification_table.head()\n"
   ]
  },
  {
   "cell_type": "code",
   "execution_count": null,
   "metadata": {},
   "outputs": [],
   "source": [
    "\n",
    "quantification_table = quantification_table.rename(columns = {'variable':'sample_id'})\n",
    "quantification_table[\"sample_id\"] = quantification_table[\"sample_id\"].str.replace(pat=\" Peak area\", repl=\"\").reset_index(drop = True)\n",
    "quantification_table[\"sample_id\"] = quantification_table[\"sample_id\"].astype(dtype=\"string\")\n",
    "quantification_table[\"feature_id\"] = quantification_table[\"feature_id\"].astype(\"str\").reset_index(drop = True)\n",
    "quantification_table\n",
    "quantification_table = pd.pivot(quantification_table, columns=\"feature_id\",  index = \"sample_id\", values=\"value\")\n",
    "quantification_table.insert(loc = 0, column= \"sample_id\", value = quantification_table.index)\n",
    "quantification_table.index.name = \"index\"\n",
    "\n",
    "quantification_table = quantification_table.reset_index(drop=True)\n",
    "quantification_table = quantification_table.rename_axis(None, axis=\"columns\")\n",
    "\n",
    "# subset the sample_ids to those actually used by the treatments\n",
    "quantification_table = quantification_table.query(\"sample_id in @sample_id_list\")\n",
    "quantification_table.head()"
   ]
  },
  {
   "cell_type": "code",
   "execution_count": null,
   "metadata": {},
   "outputs": [],
   "source": [
    "raw_spectra = list(matchms.importing.load_from_mgf(\"data/spectra.mgf\"))\n",
    "tmp_spectra = [matchms.filtering.default_filters(spectrum) for spectrum in raw_spectra] # <-- this uses spectra!\n",
    "tmp_spectra = [matchms.filtering.normalize_intensities(spectrum) for spectrum in tmp_spectra] # <-- this uses tmp_spectra!\n",
    "tmp_spectra = [matchms.filtering.reduce_to_number_of_peaks(spectrum, n_required= 10, n_max = 200) for spectrum in tmp_spectra]\n",
    "tmp_spectra = [spectrum for spectrum in tmp_spectra if spectrum is not None]\n",
    "[spectrum.set(\"feature_id\", spectrum.get(\"scans\")) for spectrum in tmp_spectra] # code to add a feature_id column to the example data\n",
    "spectra = tmp_spectra"
   ]
  },
  {
   "cell_type": "code",
   "execution_count": null,
   "metadata": {},
   "outputs": [],
   "source": [
    "print(spectra[0])\n",
    "print(spectra[0].peaks.intensities)\n",
    "print(spectra[0].peaks.mz)\n",
    "print(spectra[0].metadata.keys())\n",
    "print(spectra[0].get(\"scans\")) # --> this is the effective id column \n",
    "print(spectra[0].get(\"feature_id\"))\n",
    "print(spectra[0].get(\"precursor_mz\"))"
   ]
  },
  {
   "cell_type": "markdown",
   "metadata": {},
   "source": [
    "# Simplify and shorten the data for trial runs"
   ]
  },
  {
   "cell_type": "code",
   "execution_count": null,
   "metadata": {},
   "outputs": [],
   "source": [
    "subset_spectra = spectra[0:30]\n",
    "feature_ids = [str(spectrum.get(\"feature_id\")) for spectrum in subset_spectra] # these are strings in matchms, assumed strings throughout\n",
    "# feature_ids\n",
    "subset_qt = quantification_table[ [\"sample_id\"] + feature_ids ]"
   ]
  },
  {
   "cell_type": "code",
   "execution_count": null,
   "metadata": {},
   "outputs": [],
   "source": [
    "tmp_quantification_table = quantification_table.set_index(\"sample_id\")\n",
    "tmp_treatment_table = treatment_table.set_index(\"sample_id\")\n",
    "\n",
    "# Pandas pipe to align sample_id from quantification table and treatment table\n",
    "(\n",
    "  tmp_quantification_table.\n",
    "  join(tmp_treatment_table, on=\"sample_id\", how=\"left\").\n",
    "  reset_index()\n",
    "  [[\"sample_id\", \"treatment\"]]\n",
    ")"
   ]
  },
  {
   "cell_type": "markdown",
   "metadata": {},
   "source": [
    "# msFeaST pipeline use development\n"
   ]
  },
  {
   "cell_type": "code",
   "execution_count": null,
   "metadata": {},
   "outputs": [],
   "source": [
    "test_spectra = copy.deepcopy(subset_spectra)\n",
    "test_quantification_table = copy.deepcopy(subset_qt)\n",
    "test_treatment_data = copy.deepcopy(treatment_table)\n",
    "\n",
    "\n",
    "test_quantification_table.to_csv(\"test_quant_table.csv\")\n",
    "test_treatment_data.to_csv(\"test_treat_table.csv\")\n",
    "matchms.exporting.save_as_mgf(test_spectra, \"test_spectra.mgf\")"
   ]
  },
  {
   "cell_type": "code",
   "execution_count": null,
   "metadata": {},
   "outputs": [],
   "source": [
    "len(test_spectra)\n",
    "test_quantification_table.shape\n",
    "test_treatment_data.shape"
   ]
  },
  {
   "cell_type": "code",
   "execution_count": null,
   "metadata": {},
   "outputs": [],
   "source": [
    "%load_ext autoreload\n",
    "%autoreload 2\n",
    "from msfeastPipeline import msfeast"
   ]
  },
  {
   "cell_type": "code",
   "execution_count": null,
   "metadata": {},
   "outputs": [],
   "source": [
    "pipelineInstance = msfeast()\n",
    "pipelineInstance"
   ]
  },
  {
   "cell_type": "code",
   "execution_count": null,
   "metadata": {},
   "outputs": [],
   "source": [
    "pipelineInstance.attachData(quantification_table=test_quantification_table, treatment_table=test_treatment_data, spectra=test_spectra)"
   ]
  },
  {
   "cell_type": "code",
   "execution_count": null,
   "metadata": {},
   "outputs": [],
   "source": [
    "print(pipelineInstance.quantification_table.iloc[0:5, 0:5]) # omitting some elements\n",
    "print(pipelineInstance.treatment_table.head())\n",
    "print(pipelineInstance.spectra[0])\n",
    "print(pipelineInstance._dataLoaded)\n"
   ]
  }
 ],
 "metadata": {
  "kernelspec": {
   "display_name": "Python 3",
   "language": "python",
   "name": "python3"
  },
  "language_info": {
   "codemirror_mode": {
    "name": "ipython",
    "version": 3
   },
   "file_extension": ".py",
   "mimetype": "text/x-python",
   "name": "python",
   "nbconvert_exporter": "python",
   "pygments_lexer": "ipython3",
   "version": "3.10.13"
  }
 },
 "nbformat": 4,
 "nbformat_minor": 2
}

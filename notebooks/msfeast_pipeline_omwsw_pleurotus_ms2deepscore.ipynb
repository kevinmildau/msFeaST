{
 "cells": [
  {
   "cell_type": "code",
   "execution_count": 9,
   "metadata": {},
   "outputs": [
    {
     "name": "stdout",
     "output_type": "stream",
     "text": [
      "The autoreload extension is already loaded. To reload it, use:\n",
      "  %reload_ext autoreload\n",
      "Define Filepaths...\n",
      "Loading Input Data...\n"
     ]
    }
   ],
   "source": [
    "%load_ext autoreload\n",
    "%autoreload 2\n",
    "from matchms.importing import load_from_mgf\n",
    "from matchms.exporting import save_as_mgf\n",
    "import pandas as pd\n",
    "import os\n",
    "import msfeast.pipeline\n",
    "#from msfeast.pipeline import Msfeast\n",
    "import os\n",
    "import pandas as pd\n",
    "\n",
    "print(\"Define Filepaths...\")\n",
    "test_data_directory = os.path.join(\"data\", \"omsw_pleurotus_ms2deepscore\")\n",
    "filepath_test_spectra = os.path.join(test_data_directory, \"spectra.mgf\")\n",
    "filepath_test_quant_table = os.path.join(test_data_directory, \"quant_table.csv\")\n",
    "filepath_test_treat_table = os.path.join(test_data_directory, \"treat_table.csv\")\n",
    "\n",
    "model_path = os.path.join(\"..\", \"models\", \"ms2deepscore_model.pt\")\n",
    "\n",
    "output_directory = os.path.join(test_data_directory)\n",
    "r_output_filename = os.path.join(\"r_output.json\")\n",
    "r_filepath = os.path.join(output_directory, r_output_filename)\n",
    "dashboard_output_filepath = os.path.join(output_directory, \"dashboard_data.json\")\n",
    "\n",
    "print(\"Loading Input Data...\")\n",
    "treat_table = pd.read_csv(filepath_test_treat_table)\n",
    "quant_table = pd.read_csv(filepath_test_quant_table)"
   ]
  },
  {
   "cell_type": "code",
   "execution_count": 10,
   "metadata": {},
   "outputs": [
    {
     "name": "stdout",
     "output_type": "stream",
     "text": [
      "Initializing pipeline...\n",
      "Attaching data...\n"
     ]
    }
   ],
   "source": [
    "print(\"Initializing pipeline...\")\n",
    "pipeline = msfeast.pipeline.Msfeast()\n",
    "\n",
    "print(\"Attaching data...\")\n",
    "pipeline.attach_spectra_from_file(filepath_test_spectra, identifier_key=\"scans\")\n",
    "pipeline.attach_quantification_table(quant_table)\n",
    "pipeline.attach_treatment_table(treat_table)\n"
   ]
  },
  {
   "cell_type": "code",
   "execution_count": 11,
   "metadata": {},
   "outputs": [
    {
     "name": "stdout",
     "output_type": "stream",
     "text": [
      "Running spectral similarity computations...\n",
      "The model version (0.5.0) does not match the version of MS2Deepscore (2.0.0), consider downloading a new model or changing the MS2Deepscore version\n"
     ]
    },
    {
     "name": "stderr",
     "output_type": "stream",
     "text": [
      "1975it [00:09, 204.21it/s]\n"
     ]
    }
   ],
   "source": [
    "print(\"Running spectral similarity computations...\")\n",
    "pipeline.run_and_attach_spectral_similarity_computations(\"ms2deepscore\", model_directory=model_path)"
   ]
  },
  {
   "cell_type": "code",
   "execution_count": 12,
   "metadata": {},
   "outputs": [
    {
     "name": "stdout",
     "output_type": "stream",
     "text": [
      "Run kmedoid grid...\n",
      "Kmedoid grid results. Use to inform kmedoid classification selection ilocs.\n",
      "    iloc     k  silhouette_score  random_seed_used\n",
      "0      0    50          0.198892                 0\n",
      "1      1   100          0.203835                 0\n",
      "2      2   150          0.206368                 0\n",
      "3      3   200          0.220599                 0\n",
      "4      4   250          0.231379                 0\n",
      "5      5   300          0.239876                 0\n",
      "6      6   400          0.250223                 0\n",
      "7      7   500          0.259888                 0\n",
      "8      8   600          0.264054                 0\n",
      "9      9   800          0.257956                 0\n",
      "10    10  1000          0.245360                 0\n"
     ]
    }
   ],
   "source": [
    "print(\"Run kmedoid grid...\")\n",
    "pipeline.run_and_attach_kmedoid_grid([50,100,150,200,250,300,400,500, 600, 800, 1000])"
   ]
  },
  {
   "cell_type": "code",
   "execution_count": 13,
   "metadata": {},
   "outputs": [],
   "source": [
    "pipeline.select_kmedoid_settings(iloc = 4)"
   ]
  },
  {
   "cell_type": "code",
   "execution_count": 14,
   "metadata": {},
   "outputs": [
    {
     "name": "stdout",
     "output_type": "stream",
     "text": [
      "Run t-sne grid...\n",
      "T-sne grid results. Use to inform t-sne embedding selection.\n",
      "   iloc  perplexity  pearson_score  spearman_score  random_seed_used\n",
      "0     0          20       0.588174        0.563051                 0\n",
      "1     1          30       0.589654        0.563378                 0\n",
      "2     2          40       0.598774        0.574423                 0\n",
      "3     3          50       0.594160        0.565570                 0\n",
      "4     4         100       0.587254        0.584420                 0\n",
      "5     5         200       0.612820        0.612633                 0\n"
     ]
    }
   ],
   "source": [
    "print(\"Run t-sne grid...\")\n",
    "pipeline.run_and_attach_tsne_grid([20, 30, 40, 50, 100, 200])"
   ]
  },
  {
   "cell_type": "code",
   "execution_count": 15,
   "metadata": {},
   "outputs": [],
   "source": [
    "pipeline.select_tsne_settings(iloc = 3)"
   ]
  },
  {
   "cell_type": "code",
   "execution_count": 16,
   "metadata": {},
   "outputs": [
    {
     "name": "stdout",
     "output_type": "stream",
     "text": [
      "Initializing R runtime...\n",
      "[1] \"Starting Routine log at \"   \"2024-04-15 16:20:52.958224\"\n",
      "[1] \"R Routine: run integration test...\"\n",
      "[1] \"R Routine: Validating input file paths...\"\n",
      "[1] \"R Routine: Loading required packages...\"\n",
      "[1] \"R Routine: Reading input files...\"\n",
      "[1] \"R Routine: running global test and fold change computations...\"\n",
      "[1] \"R Routine: exporting globaltest and log fold change computations...\"\n",
      "[1] \"R Routine: complete, file saved, exiting R session.\"\n",
      "Integrating pipeline results...\n",
      "Exporting json file...\n",
      "Processing complete.\n"
     ]
    }
   ],
   "source": [
    "print(\"Initializing R runtime...\")\n",
    "if os.path.isfile(r_filepath):\n",
    "  os.remove(r_filepath)\n",
    "pipeline.run_and_attach_statistical_comparisons(output_directory, r_output_filename)\n",
    "\n",
    "print(\"Integrating pipeline results...\")\n",
    "pipeline.integrate_and_attach_dashboard_data(top_k_max=50, alpha=0.01)\n",
    "\n",
    "print(\"Exporting json file...\")\n",
    "pipeline.export_dashboard_json(filepath=dashboard_output_filepath)\n",
    "\n",
    "print(\"Processing complete.\")"
   ]
  }
 ],
 "metadata": {
  "kernelspec": {
   "display_name": "msfeast_development",
   "language": "python",
   "name": "python3"
  },
  "language_info": {
   "codemirror_mode": {
    "name": "ipython",
    "version": 3
   },
   "file_extension": ".py",
   "mimetype": "text/x-python",
   "name": "python",
   "nbconvert_exporter": "python",
   "pygments_lexer": "ipython3",
   "version": "3.10.13"
  }
 },
 "nbformat": 4,
 "nbformat_minor": 2
}

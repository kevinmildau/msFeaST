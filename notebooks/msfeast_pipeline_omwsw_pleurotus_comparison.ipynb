{
 "cells": [
  {
   "cell_type": "markdown",
   "metadata": {},
   "source": [
    "# msFeaST example OMSW comparison between Pleurotus 0 and 80 percent omsw samples\n",
    "\n",
    "This Jupyter notebook collects all the steps needed to run the msFeaST pipeline the illustrative example and produce the dashboard json file.\n",
    "\n",
    "In the first block, all dependencies are loaded. All specified packages should be available after installing msFeaST as instructed."
   ]
  },
  {
   "cell_type": "code",
   "execution_count": null,
   "metadata": {},
   "outputs": [],
   "source": [
    "%load_ext autoreload\n",
    "%autoreload 2\n",
    "from matchms.importing import load_from_mgf\n",
    "from matchms.exporting import save_as_mgf\n",
    "import pandas as pd\n",
    "import os\n",
    "import msfeast.pipeline\n",
    "import os\n",
    "import pandas as pd"
   ]
  },
  {
   "cell_type": "markdown",
   "metadata": {},
   "source": [
    "In this second block all relative filepaths are specified. This includes the input and output paths. When using ms2deepscore, a model path may need to be specified in addition (see corresponding notebook).\n",
    "\n",
    "*<span style=\"color:magenta\">Required user input: Make sure that all relative file paths are specified correctly.</span>*"
   ]
  },
  {
   "cell_type": "code",
   "execution_count": null,
   "metadata": {},
   "outputs": [],
   "source": [
    "print(\"Define Filepaths...\")\n",
    "test_data_directory = os.path.join(\"data\", \"omsw_pleurotus_comparison\")\n",
    "filepath_test_spectra = os.path.join(test_data_directory, \"spectra.mgf\")\n",
    "filepath_test_quant_table = os.path.join(test_data_directory, \"quant_table.csv\")\n",
    "filepath_test_treat_table = os.path.join(test_data_directory, \"treat_table.csv\")\n",
    "\n",
    "output_directory = os.path.join(test_data_directory)\n",
    "r_output_filename = os.path.join(\"r_output.json\")\n",
    "r_filepath = os.path.join(output_directory, r_output_filename)\n",
    "dashboard_output_filepath = os.path.join(output_directory, \"dashboard_data.json\")"
   ]
  },
  {
   "cell_type": "markdown",
   "metadata": {},
   "source": [
    "Loading data and initializing pipeline."
   ]
  },
  {
   "cell_type": "code",
   "execution_count": null,
   "metadata": {},
   "outputs": [],
   "source": [
    "print(\"Initializing pipeline...\")\n",
    "pipeline = msfeast.pipeline.Msfeast()\n",
    "\n",
    "print(\"Attaching data...\")\n",
    "treat_table = pd.read_csv(filepath_test_treat_table)\n",
    "quant_table = pd.read_csv(filepath_test_quant_table)\n",
    "pipeline.attach_spectra_from_file(filepath_test_spectra, identifier_key=\"scans\")\n",
    "pipeline.attach_quantification_table(quant_table)\n",
    "pipeline.attach_treatment_table(treat_table)\n"
   ]
  },
  {
   "cell_type": "markdown",
   "metadata": {},
   "source": [
    "The spectral similarity computations are run using the provided score."
   ]
  },
  {
   "cell_type": "code",
   "execution_count": null,
   "metadata": {},
   "outputs": [],
   "source": [
    "print(\"Running spectral similarity computations...\")\n",
    "pipeline.run_and_attach_spectral_similarity_computations(\"ModifiedCosine\")"
   ]
  },
  {
   "cell_type": "markdown",
   "metadata": {},
   "source": [
    "*<span style=\"color:magenta\">Required user input: Specify the values of k to trial run using k-medoid clustering.</span>*"
   ]
  },
  {
   "cell_type": "code",
   "execution_count": null,
   "metadata": {},
   "outputs": [],
   "source": [
    "print(\"Run kmedoid grid...\")\n",
    "pipeline.run_and_attach_kmedoid_grid([50,100,150,200,250])"
   ]
  },
  {
   "cell_type": "markdown",
   "metadata": {},
   "source": [
    "*<span style=\"color:magenta\">Required user input: Select an appropriate value of k using its iloc, balancing silhouette score and desired number of clusters.</span>*"
   ]
  },
  {
   "cell_type": "code",
   "execution_count": null,
   "metadata": {},
   "outputs": [],
   "source": [
    "pipeline.select_kmedoid_settings(iloc = 4)"
   ]
  },
  {
   "cell_type": "markdown",
   "metadata": {},
   "source": [
    "*<span style=\"color:magenta\">Required user input: Select perplexity values to trial run.</span>*"
   ]
  },
  {
   "cell_type": "code",
   "execution_count": null,
   "metadata": {},
   "outputs": [],
   "source": [
    "print(\"Run t-sne grid...\")\n",
    "pipeline.run_and_attach_tsne_grid([20, 30, 40, 50, 100])"
   ]
  },
  {
   "cell_type": "markdown",
   "metadata": {},
   "source": [
    "*<span style=\"color:magenta\">Required user input: Select appropriate pexplexity score using its iloc.</span>*\n",
    "High pearson and spearman scores indicate a good correspondence between high dimensional and low dimensional distance. However, distance preservation should be balanced against good grouping qualities in the embedding."
   ]
  },
  {
   "cell_type": "code",
   "execution_count": null,
   "metadata": {},
   "outputs": [],
   "source": [
    "pipeline.select_tsne_settings(iloc = 3)"
   ]
  },
  {
   "cell_type": "markdown",
   "metadata": {},
   "source": [
    "Run the statistics routine and integrate all pieces of information into output json file."
   ]
  },
  {
   "cell_type": "code",
   "execution_count": null,
   "metadata": {},
   "outputs": [],
   "source": [
    "print(\"Initializing R runtime...\")\n",
    "if os.path.isfile(r_filepath):\n",
    "  os.remove(r_filepath)\n",
    "pipeline.run_and_attach_statistical_comparisons(output_directory, r_output_filename)\n",
    "\n",
    "print(\"Integrating pipeline results...\")\n",
    "pipeline.integrate_and_attach_dashboard_data(top_k_max=50, alpha=0.01)\n",
    "\n",
    "print(\"Exporting json file...\")\n",
    "pipeline.export_dashboard_json(filepath=dashboard_output_filepath)\n",
    "\n",
    "print(\"Processing complete.\")"
   ]
  }
 ],
 "metadata": {
  "kernelspec": {
   "display_name": "Python 3 (ipykernel)",
   "language": "python",
   "name": "python3"
  },
  "language_info": {
   "codemirror_mode": {
    "name": "ipython",
    "version": 3
   },
   "file_extension": ".py",
   "mimetype": "text/x-python",
   "name": "python",
   "nbconvert_exporter": "python",
   "pygments_lexer": "ipython3",
   "version": "3.10.14"
  }
 },
 "nbformat": 4,
 "nbformat_minor": 4
}

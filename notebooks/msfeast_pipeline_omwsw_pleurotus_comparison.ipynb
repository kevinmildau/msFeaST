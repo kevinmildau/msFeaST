{
 "cells": [
  {
   "cell_type": "markdown",
   "metadata": {},
   "source": [
    "# msFeaST example OMSW comparison between Pleurotus 0 and 80 percent omsw samples\n",
    "\n",
    "This Jupyter notebook collects all the steps needed to run the msFeaST pipeline the illustrative example and produce the dashboard json file.\n",
    "\n",
    "In the first block, all dependencies are loaded. All specified packages should be available after installing msFeaST as instructed."
   ]
  },
  {
   "cell_type": "code",
   "execution_count": 1,
   "metadata": {},
   "outputs": [],
   "source": [
    "%load_ext autoreload\n",
    "%autoreload 2\n",
    "from matchms.importing import load_from_mgf\n",
    "from matchms.exporting import save_as_mgf\n",
    "import pandas as pd\n",
    "import os\n",
    "import msfeast.pipeline\n",
    "import os\n",
    "import pandas as pd"
   ]
  },
  {
   "cell_type": "markdown",
   "metadata": {},
   "source": [
    "In this second block all relative filepaths are specified. This includes the input and output paths. When using ms2deepscore, a model path may need to be specified in addition (see corresponding notebook).\n",
    "\n",
    "*<span style=\"color:magenta\">Required user input: Make sure that all relative file paths are specified correctly.</span>*"
   ]
  },
  {
   "cell_type": "code",
   "execution_count": 2,
   "metadata": {},
   "outputs": [
    {
     "name": "stdout",
     "output_type": "stream",
     "text": [
      "Define Filepaths...\n"
     ]
    }
   ],
   "source": [
    "print(\"Define Filepaths...\")\n",
    "test_data_directory = os.path.join(\"data\", \"omsw_pleurotus_comparison\")\n",
    "filepath_test_spectra = os.path.join(test_data_directory, \"spectra.mgf\")\n",
    "filepath_test_quant_table = os.path.join(test_data_directory, \"quant_table.csv\")\n",
    "filepath_test_treat_table = os.path.join(test_data_directory, \"treat_table.csv\")\n",
    "\n",
    "output_directory = os.path.join(test_data_directory)\n",
    "r_output_filename = os.path.join(\"r_output.json\")\n",
    "r_filepath = os.path.join(output_directory, r_output_filename)\n",
    "dashboard_output_filepath = os.path.join(output_directory, \"dashboard_data.json\")"
   ]
  },
  {
   "cell_type": "markdown",
   "metadata": {},
   "source": [
    "Loading data and initializing pipeline."
   ]
  },
  {
   "cell_type": "code",
   "execution_count": 3,
   "metadata": {},
   "outputs": [
    {
     "name": "stdout",
     "output_type": "stream",
     "text": [
      "Initializing pipeline...\n",
      "Attaching data...\n"
     ]
    }
   ],
   "source": [
    "print(\"Initializing pipeline...\")\n",
    "pipeline = msfeast.pipeline.Msfeast()\n",
    "\n",
    "print(\"Attaching data...\")\n",
    "treat_table = pd.read_csv(filepath_test_treat_table)\n",
    "quant_table = pd.read_csv(filepath_test_quant_table)\n",
    "pipeline.attach_spectra_from_file(filepath_test_spectra, identifier_key=\"scans\")\n",
    "pipeline.attach_quantification_table(quant_table)\n",
    "pipeline.attach_treatment_table(treat_table)\n"
   ]
  },
  {
   "cell_type": "markdown",
   "metadata": {},
   "source": [
    "The spectral similarity computations are run using the provided score."
   ]
  },
  {
   "cell_type": "code",
   "execution_count": 4,
   "metadata": {},
   "outputs": [
    {
     "name": "stdout",
     "output_type": "stream",
     "text": [
      "Running spectral similarity computations...\n"
     ]
    }
   ],
   "source": [
    "print(\"Running spectral similarity computations...\")\n",
    "pipeline.run_and_attach_spectral_similarity_computations(\"ModifiedCosine\")"
   ]
  },
  {
   "cell_type": "markdown",
   "metadata": {},
   "source": [
    "*<span style=\"color:magenta\">Required user input: Specify the values of k to trial run using k-medoid clustering.</span>*"
   ]
  },
  {
   "cell_type": "code",
   "execution_count": 5,
   "metadata": {},
   "outputs": [
    {
     "name": "stdout",
     "output_type": "stream",
     "text": [
      "Run kmedoid grid...\n",
      "Kmedoid grid results. Use to inform kmedoid classification selection ilocs.\n",
      "   iloc    k  silhouette_score  random_seed_used\n",
      "0     0   50          0.209813                 0\n",
      "1     1  100          0.226936                 0\n",
      "2     2  150          0.242555                 0\n",
      "3     3  200          0.254547                 0\n",
      "4     4  250          0.269968                 0\n"
     ]
    }
   ],
   "source": [
    "print(\"Run kmedoid grid...\")\n",
    "pipeline.run_and_attach_kmedoid_grid([50,100,150,200,250])"
   ]
  },
  {
   "cell_type": "markdown",
   "metadata": {},
   "source": [
    "*<span style=\"color:magenta\">Required user input: Select an appropriate value of k using its iloc, balancing silhouette score and desired number of clusters.</span>*"
   ]
  },
  {
   "cell_type": "code",
   "execution_count": 6,
   "metadata": {},
   "outputs": [],
   "source": [
    "pipeline.select_kmedoid_settings(iloc = 4)"
   ]
  },
  {
   "cell_type": "markdown",
   "metadata": {},
   "source": [
    "*<span style=\"color:magenta\">Required user input: Select perplexity values to trial run.</span>*"
   ]
  },
  {
   "cell_type": "code",
   "execution_count": 7,
   "metadata": {},
   "outputs": [
    {
     "name": "stdout",
     "output_type": "stream",
     "text": [
      "Run t-sne grid...\n",
      "T-sne grid results. Use to inform t-sne embedding selection.\n",
      "   iloc  perplexity  pearson_score  spearman_score  random_seed_used\n",
      "0     0          20       0.444379        0.397913                 0\n",
      "1     1          30       0.492475        0.466076                 0\n",
      "2     2          40       0.507838        0.480615                 0\n",
      "3     3          50       0.519132        0.499464                 0\n",
      "4     4         100       0.515202        0.494382                 0\n"
     ]
    }
   ],
   "source": [
    "print(\"Run t-sne grid...\")\n",
    "pipeline.run_and_attach_tsne_grid([20, 30, 40, 50, 100])"
   ]
  },
  {
   "cell_type": "markdown",
   "metadata": {},
   "source": [
    "*<span style=\"color:magenta\">Required user input: Select appropriate pexplexity score using its iloc.</span>*\n",
    "High pearson and spearman scores indicate a good correspondence between high dimensional and low dimensional distance. However, distance preservation should be balanced against good grouping qualities in the embedding."
   ]
  },
  {
   "cell_type": "code",
   "execution_count": 8,
   "metadata": {},
   "outputs": [],
   "source": [
    "pipeline.select_tsne_settings(iloc = 3)"
   ]
  },
  {
   "cell_type": "markdown",
   "metadata": {},
   "source": [
    "Run the statistics routine and integrate all pieces of information into output json file."
   ]
  },
  {
   "cell_type": "code",
   "execution_count": 9,
   "metadata": {},
   "outputs": [
    {
     "name": "stdout",
     "output_type": "stream",
     "text": [
      "Initializing R runtime...\n",
      "[1] \"Starting Routine log at \"   \"2024-06-06 15:31:05.616792\"\n",
      "[1] \"R Routine: run integration test...\"\n",
      "[1] \"R Routine: Validating input file paths...\"\n",
      "[1] \"R Routine: Loading required packages...\"\n",
      "[1] \"R Routine: Reading input files...\"\n",
      "[1] \"R Routine: running global test and fold change computations...\"\n",
      "[1] \"R Routine: exporting globaltest and log fold change computations...\"\n",
      "[1] \"R Routine: complete, file saved, exiting R session.\"\n",
      "Integrating pipeline results...\n",
      "Exporting json file...\n",
      "Processing complete.\n"
     ]
    }
   ],
   "source": [
    "print(\"Initializing R runtime...\")\n",
    "if os.path.isfile(r_filepath):\n",
    "  os.remove(r_filepath)\n",
    "pipeline.run_and_attach_statistical_comparisons(output_directory, r_output_filename)\n",
    "\n",
    "print(\"Integrating pipeline results...\")\n",
    "pipeline.integrate_and_attach_dashboard_data(top_k_max=50, alpha=0.01)\n",
    "\n",
    "print(\"Exporting json file...\")\n",
    "pipeline.export_dashboard_json(filepath=dashboard_output_filepath)\n",
    "\n",
    "print(\"Processing complete.\")"
   ]
  }
 ],
 "metadata": {
  "kernelspec": {
   "display_name": "Python 3 (ipykernel)",
   "language": "python",
   "name": "python3"
  },
  "language_info": {
   "codemirror_mode": {
    "name": "ipython",
    "version": 3
   },
   "file_extension": ".py",
   "mimetype": "text/x-python",
   "name": "python",
   "nbconvert_exporter": "python",
   "pygments_lexer": "ipython3",
   "version": "3.10.13"
  }
 },
 "nbformat": 4,
 "nbformat_minor": 4
}

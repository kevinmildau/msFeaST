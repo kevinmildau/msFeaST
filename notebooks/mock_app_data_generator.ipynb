{
 "cells": [
  {
   "cell_type": "code",
   "execution_count": 1,
   "metadata": {},
   "outputs": [],
   "source": [
    "import numpy as np\n",
    "import json\n",
    "import random\n",
    "random.seed(12781278)"
   ]
  },
  {
   "cell_type": "code",
   "execution_count": 2,
   "metadata": {},
   "outputs": [],
   "source": [
    "n_nodes = 200\n",
    "n_edges_per_node = 10\n",
    "minNodeSize = 5\n",
    "maxNodeSize = 50\n",
    "n_groups = 5\n",
    "n_contrasts = 3\n",
    "n_statistics = 3\n",
    "contrast_names = [\"ctrl_vs_treat_\" + str(iter) for iter in range(1, n_contrasts+1)]\n",
    "statisticsMeasuresUnivariate = [\"statMeasure_\" + str(iter) for iter in range(1, n_statistics+1)]\n",
    "statisticsMeasuresGroupBased = [\"globalTest\"]\n",
    "assert n_nodes % n_groups == 0, \"Require n_nodes to be a multiple of n_groups\"\n",
    "\n",
    "all_possible_corners = []\n",
    "for xiter in range(0, 1500, 500):\n",
    "  for yiter in range(0, 1000, 500):\n",
    "    all_possible_corners.append([xiter, yiter])\n",
    "\n",
    "assert len(all_possible_corners) >= n_groups, \"Require more possible cluster centers than groups!\"\n",
    "group_left_corners = random.sample(all_possible_corners, n_groups)"
   ]
  },
  {
   "cell_type": "markdown",
   "metadata": {},
   "source": [
    "Beware: for some configurations of this dev tool the while loop may get stuck because not enough edges exist for the configuration sought!"
   ]
  },
  {
   "cell_type": "code",
   "execution_count": 3,
   "metadata": {},
   "outputs": [],
   "source": [
    "nodes = []\n",
    "edges = []\n",
    "groups = []\n",
    "nodes_per_group = int(n_nodes / n_groups) # because automatically set to float...\n",
    "group_ids = [\"group\"+str(iter) for iter in range(0, n_groups)]\n",
    "for iloc, group_id in enumerate(group_ids):\n",
    "  # generate group specific data\n",
    "  node_ids = [\"node\"+str(iter)+str(group_id) for iter in range(0, nodes_per_group)]\n",
    "  group_corner_x = group_left_corners[iloc][0]\n",
    "  group_corner_y = group_left_corners[iloc][1]\n",
    "  for node_id in node_ids:\n",
    "    datatmp = {contrastKey:{measureKey: {\"measure\":random.uniform(0,1),\"nodeSize\": random.randint(minNodeSize, maxNodeSize)} for measureKey in statisticsMeasuresUnivariate} for contrastKey in contrast_names}\n",
    "    nodes.append(\n",
    "      {\n",
    "        \"id\": node_id, \n",
    "        \"size\": random.randint(minNodeSize, maxNodeSize),\n",
    "        \"group\": group_id,\n",
    "        \"x\": group_corner_x + random.randint(0, 600),\n",
    "        \"y\": group_corner_y + random.randint(0, 600),\n",
    "        \"data\": datatmp\n",
    "      }\n",
    "    )\n",
    "  used_node_combinations = set()\n",
    "  edge_count = 0\n",
    "  for iloc, node in enumerate(node_ids):\n",
    "    for iter in range(0, n_edges_per_node):\n",
    "      current_combination = [node, random.choice(node_ids)]\n",
    "      while frozenset(current_combination) in used_node_combinations or current_combination[0] == current_combination[1]:\n",
    "        current_combination = [node, random.choice(node_ids)]\n",
    "      used_node_combinations.add(frozenset(current_combination))\n",
    "      edges.append({\n",
    "          \"id\": str(group_id) + \"edge\" + str(edge_count), \n",
    "          \"from\": current_combination[0], \n",
    "          \"to\": current_combination[1],\n",
    "          \"width\": random.randint(1, 30),\n",
    "          \"data\": {\"score\": random.uniform(0,1)}\n",
    "        }\n",
    "      )\n",
    "      edge_count = edge_count + 1 \n",
    "   "
   ]
  },
  {
   "cell_type": "code",
   "execution_count": 4,
   "metadata": {},
   "outputs": [
    {
     "data": {
      "text/plain": [
       "{'id': 'node1group0',\n",
       " 'size': 31,\n",
       " 'group': 'group0',\n",
       " 'x': 1062,\n",
       " 'y': 794,\n",
       " 'data': {'ctrl_vs_treat_1': {'statMeasure_1': {'measure': 0.8410657210177551,\n",
       "    'nodeSize': 50},\n",
       "   'statMeasure_2': {'measure': 0.13373237410207528, 'nodeSize': 45},\n",
       "   'statMeasure_3': {'measure': 0.06138049180282146, 'nodeSize': 12}},\n",
       "  'ctrl_vs_treat_2': {'statMeasure_1': {'measure': 0.2544714201322119,\n",
       "    'nodeSize': 28},\n",
       "   'statMeasure_2': {'measure': 0.5278156216378298, 'nodeSize': 14},\n",
       "   'statMeasure_3': {'measure': 0.9732333392937361, 'nodeSize': 26}},\n",
       "  'ctrl_vs_treat_3': {'statMeasure_1': {'measure': 0.820107333020695,\n",
       "    'nodeSize': 22},\n",
       "   'statMeasure_2': {'measure': 0.7545333527980925, 'nodeSize': 36},\n",
       "   'statMeasure_3': {'measure': 0.27128904035926393, 'nodeSize': 43}}}}"
      ]
     },
     "execution_count": 4,
     "metadata": {},
     "output_type": "execute_result"
    }
   ],
   "source": [
    "nodes[1]\n"
   ]
  },
  {
   "cell_type": "code",
   "execution_count": 5,
   "metadata": {},
   "outputs": [
    {
     "data": {
      "text/plain": [
       "{'group0': {'ctrl_vs_treat_1': {'globalTest': 0.2745125736092313},\n",
       "  'ctrl_vs_treat_2': {'globalTest': 0.29743761758405685},\n",
       "  'ctrl_vs_treat_3': {'globalTest': 0.5621221329937915}},\n",
       " 'group1': {'ctrl_vs_treat_1': {'globalTest': 0.33854336495737447},\n",
       "  'ctrl_vs_treat_2': {'globalTest': 0.9446481158456699},\n",
       "  'ctrl_vs_treat_3': {'globalTest': 0.5379245883758641}},\n",
       " 'group2': {'ctrl_vs_treat_1': {'globalTest': 0.3775799645174156},\n",
       "  'ctrl_vs_treat_2': {'globalTest': 0.013712010680358544},\n",
       "  'ctrl_vs_treat_3': {'globalTest': 0.5134425280522228}},\n",
       " 'group3': {'ctrl_vs_treat_1': {'globalTest': 0.0352377657859656},\n",
       "  'ctrl_vs_treat_2': {'globalTest': 0.09478408534424942},\n",
       "  'ctrl_vs_treat_3': {'globalTest': 0.9760450495978709}},\n",
       " 'group4': {'ctrl_vs_treat_1': {'globalTest': 0.1763537055843869},\n",
       "  'ctrl_vs_treat_2': {'globalTest': 0.26086761531254277},\n",
       "  'ctrl_vs_treat_3': {'globalTest': 0.22099984110465498}}}"
      ]
     },
     "execution_count": 5,
     "metadata": {},
     "output_type": "execute_result"
    }
   ],
   "source": [
    "\n",
    "group_stats = {\n",
    "  groupKey: {\n",
    "    contrastKey: {\n",
    "      measureKey: random.uniform(0,1) \n",
    "      for measureKey in statisticsMeasuresGroupBased} \n",
    "    for contrastKey in contrast_names} \n",
    "  for groupKey in group_ids\n",
    "}\n",
    "\n",
    "\n",
    "group_stats"
   ]
  },
  {
   "cell_type": "code",
   "execution_count": 6,
   "metadata": {},
   "outputs": [],
   "source": [
    "with open(\"mockNodesEdgesDemo-v5-large.json\", \"w\") as file:\n",
    "    json.dump(\n",
    "        {\n",
    "            \"groupKeys\": group_ids,\n",
    "            \"univMeasureKeys\": statisticsMeasuresUnivariate, \n",
    "            \"groupMeasureKeys\": statisticsMeasuresGroupBased,\n",
    "            \"contrastKeys\": contrast_names,\n",
    "            \"groupStats\": group_stats, \n",
    "            \"nodes\": nodes, \n",
    "            \"edges\": edges\n",
    "        },\n",
    "        file, indent=2\n",
    "    )"
   ]
  }
 ],
 "metadata": {
  "kernelspec": {
   "display_name": "Python 3",
   "language": "python",
   "name": "python3"
  },
  "language_info": {
   "codemirror_mode": {
    "name": "ipython",
    "version": 3
   },
   "file_extension": ".py",
   "mimetype": "text/x-python",
   "name": "python",
   "nbconvert_exporter": "python",
   "pygments_lexer": "ipython3",
   "version": "3.10.8"
  }
 },
 "nbformat": 4,
 "nbformat_minor": 2
}
